{
 "cells": [
  {
   "cell_type": "markdown",
   "metadata": {},
   "source": [
    "# 1. 经典的单例模式"
   ]
  },
  {
   "cell_type": "code",
   "execution_count": 5,
   "metadata": {},
   "outputs": [
    {
     "name": "stdout",
     "output_type": "stream",
     "text": [
      "Object created <__main__.Singleton object at 0x7f1e980cf668>\n",
      "Object created <__main__.Singleton object at 0x7f1e980cf668>\n"
     ]
    }
   ],
   "source": [
    "#!/usr/bin/env python3\n",
    "# -*- coding: utf-8 -*-\n",
    "\n",
    "class Singleton(object):\n",
    "    def __new__(cls):\n",
    "        if not hasattr(cls, 'instance'):\n",
    "            cls.instance = super(Singleton, cls).__new__(cls)\n",
    "        return cls.instance\n",
    "\n",
    "if __name__ == '__main__':\n",
    "    s = Singleton()\n",
    "    print(\"Object created\", s)\n",
    "    s1 = Singleton()\n",
    "    print(\"Object created\", s1)"
   ]
  },
  {
   "cell_type": "markdown",
   "metadata": {},
   "source": [
    "1. 只允许Singleton类生成一个实例\n",
    "2. 如果已经有一个实例了，则返回同一个对象\n",
    "\n",
    "## 其中涉及到不懂的内容有\n",
    "1. ```__new__``` 是Python用于实例化对象的特殊方法，用来控制对象的创建。\n",
    "2. hassattr 用于检查cls对象是否拥有instance属性，该属性的作用是用来检查该类是否已经生成一个对象。\n",
    "3. cls 代表该类本身，他可以用来调用自己属性和类自己的方法。\n",
    "4. super 用来调用父类的方法。"
   ]
  },
  {
   "cell_type": "markdown",
   "metadata": {},
   "source": [
    "# 2. 单例模式中的懒汉式实例化"
   ]
  },
  {
   "cell_type": "code",
   "execution_count": 11,
   "metadata": {},
   "outputs": [
    {
     "name": "stdout",
     "output_type": "stream",
     "text": [
      "__init__ method called.\n",
      "Object created <class '__main__.Singleton'>\n",
      "Instance already created:  <class '__main__.Singleton'>\n"
     ]
    }
   ],
   "source": [
    "class Singleton:\n",
    "    __instance = None\n",
    "    def __init__(self):\n",
    "        if not Singleton.__instance:\n",
    "            print('__init__ method called.')\n",
    "        else:\n",
    "            print('Instance already created: ', self.getInstance())\n",
    "        \n",
    "    @classmethod\n",
    "    def getInstance(cls):\n",
    "        if not cls.__instance:\n",
    "            cls.__instance = Singleton\n",
    "        return cls.__instance\n",
    "\n",
    "if __name__ == '__main__':\n",
    "    s = Singleton()  # class initialized, but object not created\n",
    "    print(\"Object created\", Singleton.getInstance())  # Object gets created\n",
    "    s1 = Singleton()  # instance already created"
   ]
  },
  {
   "cell_type": "markdown",
   "metadata": {},
   "source": [
    "1. 懒汉式实例化能够确保在实际需要时才创建对象\n",
    "2. 节约资源\n",
    "## 其中涉及到不懂的内容：\n",
    "1. ```@classmethod``` 修饰符对应的函数不需要实例化，不需要self参数，但第一个参数必须是表示自身类的cls参数，可以掉类的属性，方法和实例化对象"
   ]
  },
  {
   "cell_type": "markdown",
   "metadata": {},
   "source": [
    "# 3. 模块级别的单例模式"
   ]
  },
  {
   "cell_type": "markdown",
   "metadata": {},
   "source": [
    "1. 检查一个Python模块是否已经导入。\n",
    "2. 如果已经导入，则返回该模块的对象， 如果还没有导入，则导入该模块，并实例化。\n",
    "3. 当模块被导入的时候，它就会被初始化。然而，当同一个模块被再次导入的时候，它不会再次初始化。"
   ]
  },
  {
   "cell_type": "markdown",
   "metadata": {},
   "source": [
    "# 4. Monostate单例(态)模式"
   ]
  },
  {
   "cell_type": "code",
   "execution_count": 15,
   "metadata": {},
   "outputs": [
    {
     "name": "stdout",
     "output_type": "stream",
     "text": [
      "Borg Object 'b':  <__main__.Borg object at 0x7f1e980d5978>\n",
      "Borg Object 'b1':  <__main__.Borg object at 0x7f1e980d5ac8>\n",
      "Borg State 'b':  {'1': '2', 'x': 4}\n",
      "Borg State 'b1':  {'1': '2', 'x': 4}\n"
     ]
    }
   ],
   "source": [
    "class Borg:\n",
    "    __shared_state = {'1':'2'}\n",
    "    def __init__(self):\n",
    "        self.x = 1\n",
    "        self.__dict__ = self.__shared_state\n",
    "        pass\n",
    "\n",
    "if __name__ == '__main__':\n",
    "    b = Borg()\n",
    "    b1 = Borg()\n",
    "    b.x = 4\n",
    "    print(\"Borg Object 'b': \", b)\n",
    "    print(\"Borg Object 'b1': \", b1)\n",
    "    print(\"Borg State 'b': \", b.__dict__)\n",
    "    print(\"Borg State 'b1': \", b1.__dict__)"
   ]
  },
  {
   "cell_type": "markdown",
   "metadata": {},
   "source": [
    "1. 所有对象共享相同状态被成为Monostate(单态)模式。\n",
    "\n",
    "## 其中涉及到不懂的内容：\n",
    "1. ```__dict__``` 它是python的一个特殊变量用来存储一个类所有对象的状态\n",
    "2. ```__dict__``` 用于存储类的静态函数，类函数，普通函数，全局变量以及一些内置的属性。\n",
    "\n",
    "除此之外，也可以通过重写__new__方法来实现Borg模式。"
   ]
  },
  {
   "cell_type": "code",
   "execution_count": 16,
   "metadata": {},
   "outputs": [
    {
     "name": "stdout",
     "output_type": "stream",
     "text": [
      "Borg Object 'b':  <__main__.Borg object at 0x7f1e980d5e10>\n",
      "Borg Object 'b1':  <__main__.Borg object at 0x7f1e980d5978>\n",
      "Borg State 'b':  {'x': 4}\n",
      "Borg State 'b1':  {'x': 4}\n"
     ]
    }
   ],
   "source": [
    "class Borg(object):\n",
    "    _shared_state = {}\n",
    "    def __new__(cls, *args, **kwargs):\n",
    "        obj = super(Borg, cls).__new__(cls, *args, **kwargs)\n",
    "        obj.__dict__ = cls._shared_state\n",
    "        return obj\n",
    "\n",
    "if __name__ == '__main__':\n",
    "    b = Borg()\n",
    "    b1 = Borg()\n",
    "    b.x = 4\n",
    "    print(\"Borg Object 'b': \", b)\n",
    "    print(\"Borg Object 'b1': \", b1)\n",
    "    print(\"Borg State 'b': \", b.__dict__)\n",
    "    print(\"Borg State 'b1': \", b1.__dict__)"
   ]
  },
  {
   "cell_type": "markdown",
   "metadata": {},
   "source": [
    "# 5. 单例和元类"
   ]
  },
  {
   "cell_type": "code",
   "execution_count": 19,
   "metadata": {},
   "outputs": [
    {
     "name": "stdout",
     "output_type": "stream",
     "text": [
      "***** Here`s My int *****\n",
      "Now do whatever you want with those objects....\n",
      "{'x': 4, 'y': 5}\n",
      "---- Inside Value ----\n",
      "4\n",
      "5\n"
     ]
    }
   ],
   "source": [
    "class MyInit(type):\n",
    "    def __call__(cls, *args, **kwds):\n",
    "        print(\"***** Here`s My int *****\")\n",
    "        print(\"Now do whatever you want with those objects....\")\n",
    "        return type.__call__(cls, *args, **kwds)\n",
    "\n",
    "class int(metaclass=MyInit):\n",
    "    def __init__(self, x, y):\n",
    "        self.x = x\n",
    "        self.y = y\n",
    "\n",
    "if __name__ == '__main__':\n",
    "    i = int(4, 5)\n",
    "    print(i.__dict__)\n",
    "    print(\"---- Inside Value ----\")\n",
    "    print(i.x)\n",
    "    print(i.y)"
   ]
  },
  {
   "cell_type": "markdown",
   "metadata": {},
   "source": [
    "## 其中涉及到不懂的内容：\n",
    "* Python通过A=type(name, bases, dict)来创建元类. 其中name是类的名称，base是基类，dict是属性变量。\n",
    "* 其中MyInit为元类，重新定义int的元类需要对metaclass进行赋值，默认为type\n",
    "* ```__new__(cls, *args, **kwargs)```创建对象时调用，且第一个参数为cls即```class```该类本身\n",
    "* ``` __init__(self, *args, **kargs)```创建完成对象后调用，对于当前对象的实例进行一些初始化，无返回值，第一个参数为self，即对象本身。\n",
    "* ``` __call(self, *args, **kargs)``` 把这个类型的对象当函数来使用，相当于重载了```()```运算符。"
   ]
  },
  {
   "cell_type": "markdown",
   "metadata": {},
   "source": [
    "由于元类在对象创建和对象实例化有更多的控制权，所以他可以用于创建单例\n",
    "* 覆盖__new__方法\n",
    "* 覆盖__init__方法\n",
    "* 覆盖__call__方法"
   ]
  },
  {
   "cell_type": "code",
   "execution_count": 21,
   "metadata": {},
   "outputs": [
    {
     "name": "stdout",
     "output_type": "stream",
     "text": [
      "<__main__.Logger object at 0x7f1e98065390> <__main__.Logger object at 0x7f1e98065390>\n"
     ]
    }
   ],
   "source": [
    "class MetaSingleton(type):\n",
    "    _instances = {}\n",
    "    def __call__(cls, *args, **kwargs):\n",
    "        if cls not in cls._instances:\n",
    "            cls._instances[cls] = super(MetaSingleton, cls).__call__(*args, **kwargs)\n",
    "        return cls._instances[cls]\n",
    "        \n",
    "class Logger(metaclass=MetaSingleton):\n",
    "    pass\n",
    "\n",
    "if __name__ == \"__main__\":\n",
    "    logger1 = Logger()\n",
    "    logger2 = Logger()\n",
    "    print(logger1, logger2)"
   ]
  },
  {
   "cell_type": "markdown",
   "metadata": {},
   "source": [
    "# 6.单例模式 I"
   ]
  },
  {
   "cell_type": "code",
   "execution_count": 25,
   "metadata": {},
   "outputs": [
    {
     "name": "stdout",
     "output_type": "stream",
     "text": [
      "Database Object DB1 <sqlite3.Cursor object at 0x7f1e980c2420>\n",
      "Database Object DB2 <sqlite3.Cursor object at 0x7f1e980c2420>\n"
     ]
    }
   ],
   "source": [
    "import sqlite3\n",
    "class MetaSingleton(type):\n",
    "    _instances = {}\n",
    "    def __call__(cls, *args, **kwargs):\n",
    "        if cls not in cls._instances:\n",
    "            cls._instances[cls] = super(MetaSingleton, cls).__call__(*args, **kwargs)\n",
    "        return cls._instances[cls]\n",
    "\n",
    "class Database(metaclass=MetaSingleton):\n",
    "    connection = None\n",
    "    def connect(self):\n",
    "        if self.connection is None:\n",
    "            self.connection = sqlite3.connect(\"db.sqlite3\")\n",
    "            self.cursorobj = self.connection.cursor()\n",
    "        return self.cursorobj\n",
    "\n",
    "if __name__ == \"__main__\":\n",
    "    db1 = Database().connect()\n",
    "    db2 = Database().connect()\n",
    "    print(\"Database Object DB1\", db1)\n",
    "    print(\"Database Object DB2\", db2)"
   ]
  },
  {
   "cell_type": "markdown",
   "metadata": {},
   "source": [
    "# 7.单例模式 II"
   ]
  },
  {
   "cell_type": "code",
   "execution_count": 27,
   "metadata": {},
   "outputs": [
    {
     "name": "stdout",
     "output_type": "stream",
     "text": [
      "Schedule health check for servers (1)..\n",
      "Checking  Server 1\n",
      "Checking  Server 2\n",
      "Checking  Server 3\n",
      "Checking  Server 4\n",
      "Schedule health check for servers (2)..\n",
      "Checking  Server 1\n",
      "Checking  Server 2\n",
      "Checking  Server 3\n",
      "Checking  Server 5\n"
     ]
    }
   ],
   "source": [
    "class HealthCheck:\n",
    "    _instance = None\n",
    "    def __new__(cls, *args, **kwargs):\n",
    "        if not HealthCheck._instance:\n",
    "            HealthCheck._instance = super(HealthCheck, cls).__new__(cls, *args, **kwargs)\n",
    "        return HealthCheck._instance\n",
    "    \n",
    "    def __init__(self):\n",
    "        self._servers = []\n",
    "    \n",
    "    def addServer(self):\n",
    "        self._servers.append(\"Server 1\")\n",
    "        self._servers.append(\"Server 2\")\n",
    "        self._servers.append(\"Server 3\")\n",
    "        self._servers.append(\"Server 4\")\n",
    "        \n",
    "    def changeServer(self):\n",
    "        self._servers.pop()\n",
    "        self._servers.append(\"Server 5\")\n",
    "        \n",
    "if __name__ == \"__main__\":\n",
    "    hc1 = HealthCheck()\n",
    "    hc2 = HealthCheck()\n",
    "    hc1.addServer()\n",
    "    print(\"Schedule health check for servers (1)..\")\n",
    "    for i in range(4):\n",
    "        print(\"Checking \", hc1._servers[i])\n",
    "    hc2.changeServer()\n",
    "    print(\"Schedule health check for servers (2)..\")\n",
    "    for i in range(4):\n",
    "        print(\"Checking \", hc2._servers[i])"
   ]
  },
  {
   "cell_type": "markdown",
   "metadata": {},
   "source": [
    "# 单例模式总结\n",
    "\n",
    "## 存在一下缺点\n",
    "* 全局变量可能在某处已经被误改，但是开发人员仍然认为他们没有发生变化，而该变量还在应用程序的其他位置被使用。\n",
    "* 可能会对同一对象创建多个引用。由于单例只创建一个对象，因此这种情况下会对同一个对象创建多个引用。\n",
    "* 所有依赖全部变量的类都会由于一个类的改变而紧密耦合为全局数据，从而可能在无意中影响另一个类。\n",
    "\n",
    "## 知识点\n",
    "* 在许多实际用用程序中，我们只需要创建一个对象，如线程池，缓存，对话框，注册表设置等。如果我们为每个应用程序创建多实例，则会导致资源的过度使用。单例模式在这种情况下工作的很好。\n",
    "* 单例是一种经过时间考研的成熟方法，能够在不带来太多缺陷的情况下提供全局访问点。\n",
    "* 当然，该模式也有几个缺点。当使用全局变量或类的实例化非常耗资源但最终却没有用到他们的情况下，单例的影响可以忽略不计。"
   ]
  },
  {
   "cell_type": "code",
   "execution_count": null,
   "metadata": {},
   "outputs": [],
   "source": []
  }
 ],
 "metadata": {
  "kernelspec": {
   "display_name": "Python 3",
   "language": "python",
   "name": "python3"
  },
  "language_info": {
   "codemirror_mode": {
    "name": "ipython",
    "version": 3
   },
   "file_extension": ".py",
   "mimetype": "text/x-python",
   "name": "python",
   "nbconvert_exporter": "python",
   "pygments_lexer": "ipython3",
   "version": "3.7.0"
  }
 },
 "nbformat": 4,
 "nbformat_minor": 4
}
