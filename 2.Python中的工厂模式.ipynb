{
 "cells": [
  {
   "cell_type": "markdown",
   "metadata": {},
   "source": [
    "# 1. 工厂模式的特点\n",
    "* 松耦合，即对象的创建可以独立于类的实现。\n",
    "* 客户端无需了解创建对象的类，但是照样可以使用他来创建对象。他只需要知道需要传递的接口，方法和参数，就能狗创建所需类型的对象了。这简化了客户端的实现。\n",
    "* 可以轻松地在工厂中添加其他类来创建其他类型的对象，而这无需更改客户端代码。最简单的情况下，客户端只需要传递另一个参数就可以了。\n",
    "* 工厂还可以重用现有对象。但是，如果客户端直接创建对象的话，总是创建一个新的对象。\n",
    "\n",
    "\n",
    "## 工厂模式的3种变体\n",
    "* 简单工厂模式：允许接口创建对象，但不会暴露对象的创建逻辑。\n",
    "* 工厂方法模式：允许接口创建对象，但使用哪个类来创建对象则交由子类决定。\n",
    "* 抽象工厂模式：抽象工厂是一个能够创建一系列相关的对象而无需指定/公开其具体类的接口。该模式能够提供其他工厂的对象，在其内部创建其他对象。"
   ]
  },
  {
   "cell_type": "markdown",
   "metadata": {},
   "source": [
    "# 2. 简单工厂模式"
   ]
  },
  {
   "cell_type": "code",
   "execution_count": 5,
   "metadata": {},
   "outputs": [
    {
     "name": "stdout",
     "output_type": "stream",
     "text": [
      "Which animal shoule make_sound Dog or Cat? Dog\n",
      "Bhow Bhow ! ! \n"
     ]
    }
   ],
   "source": [
    "from abc import ABCMeta, abstractmethod\n",
    "\n",
    "class Animal(metaclass=ABCMeta):\n",
    "    @abstractmethod\n",
    "    def do_say(self):\n",
    "        pass\n",
    "\n",
    "class Dog(Animal):\n",
    "    def do_say(self):\n",
    "        print(\"Bhow Bhow ! ! \")\n",
    "\n",
    "class Cat(Animal):\n",
    "    def do_say(self):\n",
    "        print(\"Meow Meow ! !\")\n",
    "\n",
    "class ForestFactory(object):\n",
    "    def make_sound(self, object_type):\n",
    "        return eval(object_type)().do_say()\n",
    "\n",
    "if __name__ == \"__main__\":\n",
    "    ff = ForestFactory()\n",
    "    animal = input(\"Which animal shoule make_sound Dog or Cat? \")\n",
    "    ff.make_sound(animal)"
   ]
  },
  {
   "cell_type": "markdown",
   "metadata": {},
   "source": [
    "# 3. 工厂方法模式\n",
    "* 我们定义了一个接口来创建对象，但是工厂本身并不负责创建对象，而是将这一任务交由子类来完成，即子类决定了要实例化那些类。\n",
    "* Factory方法的创建是通过继承而不是通过实例化来完成的。\n",
    "* 工厂方法使设计更具有可定制性。他可以返回相同的实例或子类，而不是某种类型的对象（就像在简单工厂方法中那样）。"
   ]
  },
  {
   "cell_type": "code",
   "execution_count": 20,
   "metadata": {},
   "outputs": [
    {
     "name": "stdout",
     "output_type": "stream",
     "text": [
      "Which Profile you`d like to create? [LinkedIn or FaceBook]linkedin\n",
      "Createing Profile.. linkedin\n",
      "Profile has sections -- [<__main__.PersonSection object at 0x7fb88e5597f0>, <__main__.PatentSection object at 0x7fb88e5597b8>, <__main__.PublicationSection object at 0x7fb88e5595f8>]\n"
     ]
    }
   ],
   "source": [
    "from abc import ABCMeta, abstractmethod\n",
    "\n",
    "class Section(metaclass=ABCMeta):\n",
    "    @abstractmethod\n",
    "    def describe(self):\n",
    "        pass\n",
    "    \n",
    "class PersonSection(Section):\n",
    "    def describe(self):\n",
    "        print(\"Personal Section\")\n",
    "        \n",
    "class AlbumSection(Section):\n",
    "    def describe(self):\n",
    "        print(\"Album Section\")\n",
    "        \n",
    "class PatentSection(Section):\n",
    "    def describe(self):\n",
    "        print(\"Patent Section\")\n",
    "        \n",
    "class PublicationSection(Section):\n",
    "    def describe(self):\n",
    "        print(\"Publication Section\")\n",
    "        \n",
    "        \n",
    "class Profile(metaclass=ABCMeta):\n",
    "    def __init__(self):\n",
    "        self.sections = []\n",
    "        self.createProfile()\n",
    "    \n",
    "    @abstractmethod\n",
    "    def createProfile(self):\n",
    "        pass\n",
    "    def getSections(self):\n",
    "        return self.sections\n",
    "    def addSections(self, section):\n",
    "        self.sections.append(section)\n",
    "        \n",
    "\n",
    "class linkedin(Profile):\n",
    "    def createProfile(self):\n",
    "        self.addSections(PersonSection())\n",
    "        self.addSections(PatentSection())\n",
    "        self.addSections(PublicationSection())\n",
    "        \n",
    "class facebook(Profile):\n",
    "    def createProfile(self):\n",
    "        self.addSections(PersonSection())\n",
    "        self.addSections(AlbumSection())\n",
    "        \n",
    "\n",
    "if __name__ == \"__main__\":\n",
    "    profile_type = input(\"Which Profile you`d like to create? [LinkedIn or FaceBook]\")\n",
    "    profile = eval(profile_type.lower())()\n",
    "    print(\"Createing Profile..\", type(profile).__name__)\n",
    "    print(\"Profile has sections --\", profile.getSections())\n",
    "    "
   ]
  },
  {
   "cell_type": "markdown",
   "metadata": {},
   "source": [
    "## 工厂模式的优点：\n",
    "* 他具有更大的灵活性，似的代码更加通用因为他不是淡出地实例化某个类。这样，实现那些类取决于接口（Product），而不是ConcreateProduct类。\n",
    "* 他们是松耦合的，因为创建对象的代码与使用它的代码是分开的。客户端完全不需要关心和传递那些参数以及需要实例化那些类。由于添加新类更加容易，所以降低了维护成本。"
   ]
  },
  {
   "cell_type": "markdown",
   "metadata": {},
   "source": [
    "# 4. 抽象工厂模式\n",
    "抽象工厂模式的主要目的是提供一个接口来创建一系列相关对象，而无需指定具体的类。工厂方法将创建实例的人物委托给了子类，而抽象工厂方法的目标是创建一系列相关对象。\n"
   ]
  },
  {
   "cell_type": "code",
   "execution_count": 24,
   "metadata": {},
   "outputs": [
    {
     "name": "stdout",
     "output_type": "stream",
     "text": [
      "Parepare  DeluxVeggiePizza\n",
      "ChickenPizza  is served with Chicken on  DeluxVeggiePizza\n",
      "Prepare  MexicanVegaPizza\n",
      "HamPizza  is served with Ham on  MexicanVegaPizza\n"
     ]
    }
   ],
   "source": [
    "from abc import ABCMeta, abstractmethod\n",
    "\n",
    "class PizzaFactory(metaclass=ABCMeta):\n",
    "    @abstractmethod\n",
    "    def createVegPizza(self):\n",
    "        pass\n",
    "    \n",
    "    @abstractmethod\n",
    "    def createNonVegPizza(self):\n",
    "        pass\n",
    "    \n",
    "class IndiaPizzaFactory(PizzaFactory):\n",
    "    def createVegPizza(self):\n",
    "        return DeluxVeggiePizza()\n",
    "    \n",
    "    def createNonVegPizza(self):\n",
    "        return ChickenPizza()\n",
    "    \n",
    "class USPizzaFactory(PizzaFactory):\n",
    "    def createVegPizza(self):\n",
    "        return MexicanVegaPizza()\n",
    "    \n",
    "    def createNonVegPizza(self):\n",
    "        return HamPizza()\n",
    "    \n",
    "\n",
    "class VegPizza(metaclass=ABCMeta):\n",
    "    @abstractmethod\n",
    "    def prepare(self, VegPizza):\n",
    "        pass\n",
    "    \n",
    "class NonVegPizza(metaclass=ABCMeta):\n",
    "    @abstractmethod\n",
    "    def serve(self, VegPizza):\n",
    "        pass\n",
    "    \n",
    "class DeluxVeggiePizza(VegPizza):\n",
    "    def prepare(self):\n",
    "        print(\"Parepare \", type(self).__name__)\n",
    "\n",
    "class ChickenPizza(NonVegPizza):\n",
    "    def serve(self, VegPizza):\n",
    "        print(type(self).__name__, \" is served with Chicken on \", type(VegPizza).__name__)\n",
    "\n",
    "class MexicanVegaPizza(VegPizza):\n",
    "    def prepare(self):\n",
    "        print(\"Prepare \", type(self).__name__)\n",
    "\n",
    "class HamPizza(NonVegPizza):\n",
    "    def serve(self, VegPizza):\n",
    "        print(type(self).__name__, \" is served with Ham on \", type(VegPizza).__name__)\n",
    "        \n",
    "\n",
    "        \n",
    "class PizzaStore:\n",
    "    def __init__(self):\n",
    "        pass\n",
    "    def makePizzas(self):\n",
    "        for factory in [IndiaPizzaFactory(), USPizzaFactory()]:\n",
    "            self.factory = factory\n",
    "            self.NonVegPizza = self.factory.createNonVegPizza()\n",
    "            self.VegPizza = self.factory.createVegPizza()\n",
    "            self.VegPizza.prepare()\n",
    "            self.NonVegPizza.serve(self.VegPizza)\n",
    "\n",
    "if __name__ == \"__main__\":\n",
    "    pizza = PizzaStore()\n",
    "    pizza.makePizzas()"
   ]
  },
  {
   "cell_type": "markdown",
   "metadata": {},
   "source": [
    "# 5. 工厂方法与抽象工厂方法\n",
    "\n",
    "| 工厂方法 | 抽象工厂方法 |\n",
    "| :---- | :---- |\n",
    "| 它向客户端开放了一个创建对象的方法 | 抽象工厂方法包含一个或多个工厂方法来创建一个系列的相关对象 |\n",
    "| 工厂方法用于创建一个产品 | 抽象工厂方法用于创建相关产品的系列 |"
   ]
  },
  {
   "cell_type": "code",
   "execution_count": null,
   "metadata": {},
   "outputs": [],
   "source": []
  }
 ],
 "metadata": {
  "kernelspec": {
   "display_name": "Python 3",
   "language": "python",
   "name": "python3"
  },
  "language_info": {
   "codemirror_mode": {
    "name": "ipython",
    "version": 3
   },
   "file_extension": ".py",
   "mimetype": "text/x-python",
   "name": "python",
   "nbconvert_exporter": "python",
   "pygments_lexer": "ipython3",
   "version": "3.7.0"
  }
 },
 "nbformat": 4,
 "nbformat_minor": 4
}
